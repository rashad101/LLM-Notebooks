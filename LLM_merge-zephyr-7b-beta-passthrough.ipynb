{
  "nbformat": 4,
  "nbformat_minor": 0,
  "metadata": {
    "colab": {
      "provenance": [],
      "gpuType": "T4",
      "authorship_tag": "ABX9TyM1HBrv+JHsm0mi3PRseE3i",
      "include_colab_link": true
    },
    "kernelspec": {
      "name": "python3",
      "display_name": "Python 3"
    },
    "language_info": {
      "name": "python"
    },
    "accelerator": "GPU"
  },
  "cells": [
    {
      "cell_type": "markdown",
      "metadata": {
        "id": "view-in-github",
        "colab_type": "text"
      },
      "source": [
        "<a href=\"https://colab.research.google.com/github/rashad101/merge-llms/blob/main/LLM_merge-zephyr-7b-beta-passthrough.ipynb\" target=\"_parent\"><img src=\"https://colab.research.google.com/assets/colab-badge.svg\" alt=\"Open In Colab\"/></a>"
      ]
    },
    {
      "cell_type": "code",
      "execution_count": null,
      "metadata": {
        "colab": {
          "base_uri": "https://localhost:8080/"
        },
        "id": "1T__c32NafS5",
        "outputId": "cae0d671-8433-4a6f-b568-3f3220c9d993"
      },
      "outputs": [
        {
          "output_type": "stream",
          "name": "stdout",
          "text": [
            "fatal: destination path 'mergekit' already exists and is not an empty directory.\n",
            "\u001b[31mERROR: Exception:\n",
            "Traceback (most recent call last):\n",
            "  File \"/usr/local/lib/python3.10/dist-packages/pip/_internal/cli/base_command.py\", line 169, in exc_logging_wrapper\n",
            "    status = run_func(*args)\n",
            "  File \"/usr/local/lib/python3.10/dist-packages/pip/_internal/cli/req_command.py\", line 242, in wrapper\n",
            "    return func(self, options, args)\n",
            "  File \"/usr/local/lib/python3.10/dist-packages/pip/_internal/commands/install.py\", line 333, in run\n",
            "    build_tracker = self.enter_context(get_build_tracker())\n",
            "  File \"/usr/local/lib/python3.10/dist-packages/pip/_internal/cli/command_context.py\", line 27, in enter_context\n",
            "    return self._main_context.enter_context(context_provider)\n",
            "  File \"/usr/lib/python3.10/contextlib.py\", line 492, in enter_context\n",
            "    result = _cm_type.__enter__(cm)\n",
            "  File \"/usr/lib/python3.10/contextlib.py\", line 135, in __enter__\n",
            "    return next(self.gen)\n",
            "  File \"/usr/local/lib/python3.10/dist-packages/pip/_internal/operations/build/build_tracker.py\", line 46, in get_build_tracker\n",
            "    root = ctx.enter_context(TempDirectory(kind=\"build-tracker\")).path\n",
            "  File \"/usr/local/lib/python3.10/dist-packages/pip/_internal/utils/temp_dir.py\", line 125, in __init__\n",
            "    path = self._create(kind)\n",
            "  File \"/usr/local/lib/python3.10/dist-packages/pip/_internal/utils/temp_dir.py\", line 164, in _create\n",
            "    path = os.path.realpath(tempfile.mkdtemp(prefix=f\"pip-{kind}-\"))\n",
            "  File \"/usr/lib/python3.10/tempfile.py\", line 496, in mkdtemp\n",
            "    prefix, suffix, dir, output_type = _sanitize_params(prefix, suffix, dir)\n",
            "  File \"/usr/lib/python3.10/tempfile.py\", line 265, in _sanitize_params\n",
            "    dir = gettempdir()\n",
            "  File \"/usr/lib/python3.10/tempfile.py\", line 438, in gettempdir\n",
            "    return _os.fsdecode(_gettempdir())\n",
            "  File \"/usr/lib/python3.10/tempfile.py\", line 431, in _gettempdir\n",
            "    tempdir = _get_default_tempdir()\n",
            "  File \"/usr/lib/python3.10/tempfile.py\", line 362, in _get_default_tempdir\n",
            "    raise FileNotFoundError(_errno.ENOENT,\n",
            "FileNotFoundError: [Errno 2] No usable temporary directory found in ['/tmp', '/var/tmp', '/usr/tmp', '/content/mergekit']\u001b[0m\u001b[31m\n",
            "\u001b[0m"
          ]
        }
      ],
      "source": [
        "!git clone https://github.com/cg123/mergekit.git\n",
        "!cd mergekit && pip install -q -e .\n",
        "import torch"
      ]
    },
    {
      "cell_type": "code",
      "source": [
        "torch.cuda.is_available()"
      ],
      "metadata": {
        "colab": {
          "base_uri": "https://localhost:8080/"
        },
        "id": "lyLIKcYwcQhf",
        "outputId": "5695eea3-e019-40bb-d2db-93230f41b6f7"
      },
      "execution_count": null,
      "outputs": [
        {
          "output_type": "execute_result",
          "data": {
            "text/plain": [
              "True"
            ]
          },
          "metadata": {},
          "execution_count": 2
        }
      ]
    },
    {
      "cell_type": "code",
      "source": [
        "import yaml\n",
        "\n",
        "MODEL_NAME = \"zephyr-7b-beta-passthrough\"\n",
        "yaml_config = \"\"\"\n",
        "slices:\n",
        "  - sources:\n",
        "    - model: HuggingFaceH4/zephyr-7b-beta\n",
        "      layer_range: [0, 32]\n",
        "  - sources:\n",
        "    - model: mlabonne/NeuralHermes-2.5-Mistral-7B\n",
        "      layer_range: [16, 32]\n",
        "base_model: HuggingFaceH4/zephyr-7b-beta\n",
        "merge_method: passthrough\n",
        "dtype: bfloat16\n",
        "\n",
        "\"\"\"\n",
        "\n",
        "# Save config as yaml file\n",
        "with open('config.yaml', 'w', encoding=\"utf-8\") as f:\n",
        "    f.write(yaml_config)"
      ],
      "metadata": {
        "id": "dBOiQfzFcS1y"
      },
      "execution_count": null,
      "outputs": []
    },
    {
      "cell_type": "code",
      "source": [
        "!mergekit-yaml config.yaml merge --copy-tokenizer --allow-crimes --out-shard-size 1B --lazy-unpickle --trust-remote-code\n"
      ],
      "metadata": {
        "colab": {
          "base_uri": "https://localhost:8080/"
        },
        "id": "gJXiQbIAh7z0",
        "outputId": "f53d2b2a-1f72-49a1-90fd-406c65fe18b0"
      },
      "execution_count": null,
      "outputs": [
        {
          "output_type": "stream",
          "name": "stdout",
          "text": [
            "Traceback (most recent call last):\n",
            "  File \"/usr/local/bin/mergekit-yaml\", line 5, in <module>\n",
            "    from mergekit.scripts.run_yaml import main\n",
            "  File \"/content/mergekit/mergekit/scripts/run_yaml.py\", line 21, in <module>\n",
            "    from mergekit.config import MergeConfiguration\n",
            "  File \"/content/mergekit/mergekit/config.py\", line 22, in <module>\n",
            "    from mergekit.common import ModelReference\n",
            "  File \"/content/mergekit/mergekit/common.py\", line 36, in <module>\n",
            "    import peft\n",
            "  File \"/usr/local/lib/python3.10/dist-packages/peft/__init__.py\", line 22, in <module>\n",
            "    from .auto import (\n",
            "  File \"/usr/local/lib/python3.10/dist-packages/peft/auto.py\", line 30, in <module>\n",
            "    from .config import PeftConfig\n",
            "  File \"/usr/local/lib/python3.10/dist-packages/peft/config.py\", line 24, in <module>\n",
            "    from .utils import CONFIG_NAME, PeftType, TaskType\n",
            "  File \"/usr/local/lib/python3.10/dist-packages/peft/utils/__init__.py\", line 22, in <module>\n",
            "    from .other import (\n",
            "  File \"/usr/local/lib/python3.10/dist-packages/peft/utils/other.py\", line 20, in <module>\n",
            "    import accelerate\n",
            "  File \"/usr/local/lib/python3.10/dist-packages/accelerate/__init__.py\", line 3, in <module>\n",
            "    from .accelerator import Accelerator\n",
            "  File \"/usr/local/lib/python3.10/dist-packages/accelerate/accelerator.py\", line 35, in <module>\n",
            "    from .checkpointing import load_accelerator_state, load_custom_state, save_accelerator_state, save_custom_state\n",
            "  File \"/usr/local/lib/python3.10/dist-packages/accelerate/checkpointing.py\", line 24, in <module>\n",
            "    from .utils import (\n",
            "  File \"/usr/local/lib/python3.10/dist-packages/accelerate/utils/__init__.py\", line 149, in <module>\n",
            "    from .fsdp_utils import load_fsdp_model, load_fsdp_optimizer, save_fsdp_model, save_fsdp_optimizer\n",
            "  File \"/usr/local/lib/python3.10/dist-packages/accelerate/utils/fsdp_utils.py\", line 25, in <module>\n",
            "    import torch.distributed.checkpoint as dist_cp\n",
            "  File \"/usr/local/lib/python3.10/dist-packages/torch/distributed/checkpoint/__init__.py\", line 1, in <module>\n",
            "    from .metadata import (\n",
            "  File \"/usr/local/lib/python3.10/dist-packages/torch/distributed/checkpoint/metadata.py\", line 3, in <module>\n",
            "    from torch.distributed._shard.sharded_tensor.metadata import TensorProperties\n",
            "  File \"/usr/local/lib/python3.10/dist-packages/torch/distributed/_shard/__init__.py\", line 1, in <module>\n",
            "    from .api import (\n",
            "  File \"/usr/local/lib/python3.10/dist-packages/torch/distributed/_shard/api.py\", line 6, in <module>\n",
            "    from torch.distributed._shard.sharded_tensor import (\n",
            "  File \"/usr/local/lib/python3.10/dist-packages/torch/distributed/_shard/sharded_tensor/__init__.py\", line 8, in <module>\n",
            "    from .api import (\n",
            "  File \"/usr/local/lib/python3.10/dist-packages/torch/distributed/_shard/sharded_tensor/api.py\", line 38, in <module>\n",
            "    from .reshard import reshuffle_local_shard, reshard_local_shard\n",
            "  File \"/usr/local/lib/python3.10/dist-packages/torch/distributed/_shard/sharded_tensor/reshard.py\", line 14, in <module>\n",
            "    from torch.distributed.nn.functional import (\n",
            "  File \"/usr/local/lib/python3.10/dist-packages/torch/distributed/nn/__init__.py\", line 3, in <module>\n",
            "    from .api.remote_module import RemoteModule\n",
            "  File \"/usr/local/lib/python3.10/dist-packages/torch/distributed/nn/api/remote_module.py\", line 24, in <module>\n",
            "    from torch.distributed.nn.jit import instantiator\n",
            "  File \"/usr/local/lib/python3.10/dist-packages/torch/distributed/nn/jit/instantiator.py\", line 19, in <module>\n",
            "    _TEMP_DIR = tempfile.TemporaryDirectory()\n",
            "  File \"/usr/lib/python3.10/tempfile.py\", line 958, in __init__\n",
            "    self.name = mkdtemp(suffix, prefix, dir)\n",
            "  File \"/usr/lib/python3.10/tempfile.py\", line 496, in mkdtemp\n",
            "    prefix, suffix, dir, output_type = _sanitize_params(prefix, suffix, dir)\n",
            "  File \"/usr/lib/python3.10/tempfile.py\", line 265, in _sanitize_params\n",
            "    dir = gettempdir()\n",
            "  File \"/usr/lib/python3.10/tempfile.py\", line 438, in gettempdir\n",
            "    return _os.fsdecode(_gettempdir())\n",
            "  File \"/usr/lib/python3.10/tempfile.py\", line 431, in _gettempdir\n",
            "    tempdir = _get_default_tempdir()\n",
            "  File \"/usr/lib/python3.10/tempfile.py\", line 362, in _get_default_tempdir\n",
            "    raise FileNotFoundError(_errno.ENOENT,\n",
            "FileNotFoundError: [Errno 2] No usable temporary directory found in ['/tmp', '/var/tmp', '/usr/tmp', '/content']\n"
          ]
        }
      ]
    },
    {
      "cell_type": "code",
      "source": [
        "!pip install -qU huggingface_hub\n",
        "\n",
        "from huggingface_hub import ModelCard, ModelCardData\n",
        "from jinja2 import Template\n",
        "\n",
        "username = \"rony\"\n",
        "\n",
        "template_text = \"\"\"\n",
        "---\n",
        "license: apache-2.0\n",
        "tags:\n",
        "- merge\n",
        "- mergekit\n",
        "- lazymergekit\n",
        "{%- for model in models %}\n",
        "- {{ model }}\n",
        "{%- endfor %}\n",
        "---\n",
        "\n",
        "# {{ model_name }}\n",
        "\n",
        "{{ model_name }} is a merge of the following models using [mergekit](https://github.com/cg123/mergekit):\n",
        "\n",
        "{%- for model in models %}\n",
        "* [{{ model }}](https://huggingface.co/{{ model }})\n",
        "{%- endfor %}\n",
        "\n",
        "## 🧩 Configuration\n",
        "\n",
        "```yaml\n",
        "{{- yaml_config -}}\n",
        "```\n",
        "\"\"\"\n",
        "\n",
        "# Create a Jinja template object\n",
        "jinja_template = Template(template_text.strip())\n",
        "\n",
        "# Get list of models from config\n",
        "data = yaml.safe_load(yaml_config)\n",
        "if \"models\" in data:\n",
        "    models = [data[\"models\"][i][\"model\"] for i in range(len(data[\"models\"])) if \"parameters\" in data[\"models\"][i]]\n",
        "elif \"parameters\" in data:\n",
        "    models = [data[\"slices\"][0][\"sources\"][i][\"model\"] for i in range(len(data[\"slices\"][0][\"sources\"]))]\n",
        "elif \"slices\" in data:\n",
        "    models = [data[\"slices\"][i][\"sources\"][0][\"model\"] for i in range(len(data[\"slices\"]))]\n",
        "else:\n",
        "    raise Exception(\"No models or slices found in yaml config\")\n",
        "\n",
        "# Fill the template\n",
        "content = jinja_template.render(\n",
        "    model_name=MODEL_NAME,\n",
        "    models=models,\n",
        "    yaml_config=yaml_config,\n",
        "    username=username,\n",
        ")\n",
        "\n",
        "# Save the model card\n",
        "card = ModelCard(content)\n",
        "card.save('merge/README.md')"
      ],
      "metadata": {
        "colab": {
          "base_uri": "https://localhost:8080/"
        },
        "id": "hRYF8qC-jNDd",
        "outputId": "3acdcbc3-c65b-41ea-d9f3-b5bc1358616c"
      },
      "execution_count": null,
      "outputs": [
        {
          "output_type": "stream",
          "name": "stdout",
          "text": [
            "\u001b[31mERROR: Exception:\n",
            "Traceback (most recent call last):\n",
            "  File \"/usr/local/lib/python3.10/dist-packages/pip/_internal/cli/base_command.py\", line 169, in exc_logging_wrapper\n",
            "    status = run_func(*args)\n",
            "  File \"/usr/local/lib/python3.10/dist-packages/pip/_internal/cli/req_command.py\", line 242, in wrapper\n",
            "    return func(self, options, args)\n",
            "  File \"/usr/local/lib/python3.10/dist-packages/pip/_internal/commands/install.py\", line 333, in run\n",
            "    build_tracker = self.enter_context(get_build_tracker())\n",
            "  File \"/usr/local/lib/python3.10/dist-packages/pip/_internal/cli/command_context.py\", line 27, in enter_context\n",
            "    return self._main_context.enter_context(context_provider)\n",
            "  File \"/usr/lib/python3.10/contextlib.py\", line 492, in enter_context\n",
            "    result = _cm_type.__enter__(cm)\n",
            "  File \"/usr/lib/python3.10/contextlib.py\", line 135, in __enter__\n",
            "    return next(self.gen)\n",
            "  File \"/usr/local/lib/python3.10/dist-packages/pip/_internal/operations/build/build_tracker.py\", line 46, in get_build_tracker\n",
            "    root = ctx.enter_context(TempDirectory(kind=\"build-tracker\")).path\n",
            "  File \"/usr/local/lib/python3.10/dist-packages/pip/_internal/utils/temp_dir.py\", line 125, in __init__\n",
            "    path = self._create(kind)\n",
            "  File \"/usr/local/lib/python3.10/dist-packages/pip/_internal/utils/temp_dir.py\", line 164, in _create\n",
            "    path = os.path.realpath(tempfile.mkdtemp(prefix=f\"pip-{kind}-\"))\n",
            "  File \"/usr/lib/python3.10/tempfile.py\", line 496, in mkdtemp\n",
            "    prefix, suffix, dir, output_type = _sanitize_params(prefix, suffix, dir)\n",
            "  File \"/usr/lib/python3.10/tempfile.py\", line 265, in _sanitize_params\n",
            "    dir = gettempdir()\n",
            "  File \"/usr/lib/python3.10/tempfile.py\", line 438, in gettempdir\n",
            "    return _os.fsdecode(_gettempdir())\n",
            "  File \"/usr/lib/python3.10/tempfile.py\", line 431, in _gettempdir\n",
            "    tempdir = _get_default_tempdir()\n",
            "  File \"/usr/lib/python3.10/tempfile.py\", line 362, in _get_default_tempdir\n",
            "    raise FileNotFoundError(_errno.ENOENT,\n",
            "FileNotFoundError: [Errno 2] No usable temporary directory found in ['/tmp', '/var/tmp', '/usr/tmp', '/content']\u001b[0m\u001b[31m\n",
            "\u001b[0m--- Logging error ---\n",
            "Traceback (most recent call last):\n",
            "  File \"/usr/local/lib/python3.10/dist-packages/pip/_internal/cli/base_command.py\", line 169, in exc_logging_wrapper\n",
            "    status = run_func(*args)\n",
            "  File \"/usr/local/lib/python3.10/dist-packages/pip/_internal/cli/req_command.py\", line 242, in wrapper\n",
            "    return func(self, options, args)\n",
            "  File \"/usr/local/lib/python3.10/dist-packages/pip/_internal/commands/install.py\", line 333, in run\n",
            "    build_tracker = self.enter_context(get_build_tracker())\n",
            "  File \"/usr/local/lib/python3.10/dist-packages/pip/_internal/cli/command_context.py\", line 27, in enter_context\n",
            "    return self._main_context.enter_context(context_provider)\n",
            "  File \"/usr/lib/python3.10/contextlib.py\", line 492, in enter_context\n",
            "    result = _cm_type.__enter__(cm)\n",
            "  File \"/usr/lib/python3.10/contextlib.py\", line 135, in __enter__\n",
            "    return next(self.gen)\n",
            "  File \"/usr/local/lib/python3.10/dist-packages/pip/_internal/operations/build/build_tracker.py\", line 46, in get_build_tracker\n",
            "    root = ctx.enter_context(TempDirectory(kind=\"build-tracker\")).path\n",
            "  File \"/usr/local/lib/python3.10/dist-packages/pip/_internal/utils/temp_dir.py\", line 125, in __init__\n",
            "    path = self._create(kind)\n",
            "  File \"/usr/local/lib/python3.10/dist-packages/pip/_internal/utils/temp_dir.py\", line 164, in _create\n",
            "    path = os.path.realpath(tempfile.mkdtemp(prefix=f\"pip-{kind}-\"))\n",
            "  File \"/usr/lib/python3.10/tempfile.py\", line 496, in mkdtemp\n",
            "    prefix, suffix, dir, output_type = _sanitize_params(prefix, suffix, dir)\n",
            "  File \"/usr/lib/python3.10/tempfile.py\", line 265, in _sanitize_params\n",
            "    dir = gettempdir()\n",
            "  File \"/usr/lib/python3.10/tempfile.py\", line 438, in gettempdir\n",
            "    return _os.fsdecode(_gettempdir())\n",
            "  File \"/usr/lib/python3.10/tempfile.py\", line 431, in _gettempdir\n",
            "    tempdir = _get_default_tempdir()\n",
            "  File \"/usr/lib/python3.10/tempfile.py\", line 362, in _get_default_tempdir\n",
            "    raise FileNotFoundError(_errno.ENOENT,\n",
            "FileNotFoundError: [Errno 2] No usable temporary directory found in ['/tmp', '/var/tmp', '/usr/tmp', '/content']\n",
            "\n",
            "During handling of the above exception, another exception occurred:\n",
            "\n",
            "Traceback (most recent call last):\n",
            "  File \"/usr/lib/python3.10/logging/__init__.py\", line 1104, in emit\n",
            "    self.flush()\n",
            "  File \"/usr/lib/python3.10/logging/__init__.py\", line 1084, in flush\n",
            "    self.stream.flush()\n",
            "OSError: [Errno 28] No space left on device\n",
            "Call stack:\n",
            "  File \"/usr/local/bin/pip3\", line 8, in <module>\n",
            "    sys.exit(main())\n",
            "  File \"/usr/local/lib/python3.10/dist-packages/pip/_internal/cli/main.py\", line 79, in main\n",
            "    return command.main(cmd_args)\n",
            "  File \"/usr/local/lib/python3.10/dist-packages/pip/_internal/cli/base_command.py\", line 101, in main\n",
            "    return self._main(args)\n",
            "  File \"/usr/local/lib/python3.10/dist-packages/pip/_internal/cli/base_command.py\", line 223, in _main\n",
            "    return run(options, args)\n",
            "  File \"/usr/local/lib/python3.10/dist-packages/pip/_internal/cli/base_command.py\", line 211, in exc_logging_wrapper\n",
            "    logger.critical(\"Exception:\", exc_info=True)\n",
            "Message: 'Exception:'\n",
            "Arguments: ()\n"
          ]
        }
      ]
    },
    {
      "cell_type": "code",
      "source": [
        "from google.colab import userdata\n",
        "from huggingface_hub import HfApi\n",
        "\n",
        "username = \"rony\"\n",
        "\n",
        "# Defined in the secrets tab in Google Colab\n",
        "api = HfApi(token=userdata.get(\"hf_token\"))\n",
        "\n",
        "api.create_repo(\n",
        "    repo_id=f\"{username}/{MODEL_NAME}\",\n",
        "    repo_type=\"model\"\n",
        ")\n",
        "api.upload_folder(\n",
        "    repo_id=f\"{username}/{MODEL_NAME}\",\n",
        "    folder_path=\"merge\",\n",
        ")\n"
      ],
      "metadata": {
        "colab": {
          "base_uri": "https://localhost:8080/",
          "height": 411
        },
        "id": "jymdgBKcjVAi",
        "outputId": "b11e0b5f-de49-4468-c603-b633b18c25e8"
      },
      "execution_count": null,
      "outputs": [
        {
          "output_type": "error",
          "ename": "NotebookAccessError",
          "evalue": "Notebook does not have access to secret hf_token",
          "traceback": [
            "\u001b[0;31m---------------------------------------------------------------------------\u001b[0m",
            "\u001b[0;31mNotebookAccessError\u001b[0m                       Traceback (most recent call last)",
            "\u001b[0;32m<ipython-input-6-91b3d1108f72>\u001b[0m in \u001b[0;36m<cell line: 7>\u001b[0;34m()\u001b[0m\n\u001b[1;32m      5\u001b[0m \u001b[0;34m\u001b[0m\u001b[0m\n\u001b[1;32m      6\u001b[0m \u001b[0;31m# Defined in the secrets tab in Google Colab\u001b[0m\u001b[0;34m\u001b[0m\u001b[0;34m\u001b[0m\u001b[0m\n\u001b[0;32m----> 7\u001b[0;31m \u001b[0mapi\u001b[0m \u001b[0;34m=\u001b[0m \u001b[0mHfApi\u001b[0m\u001b[0;34m(\u001b[0m\u001b[0mtoken\u001b[0m\u001b[0;34m=\u001b[0m\u001b[0muserdata\u001b[0m\u001b[0;34m.\u001b[0m\u001b[0mget\u001b[0m\u001b[0;34m(\u001b[0m\u001b[0;34m\"hf_token\"\u001b[0m\u001b[0;34m)\u001b[0m\u001b[0;34m)\u001b[0m\u001b[0;34m\u001b[0m\u001b[0;34m\u001b[0m\u001b[0m\n\u001b[0m\u001b[1;32m      8\u001b[0m \u001b[0;34m\u001b[0m\u001b[0m\n\u001b[1;32m      9\u001b[0m api.create_repo(\n",
            "\u001b[0;32m/usr/local/lib/python3.10/dist-packages/google/colab/userdata.py\u001b[0m in \u001b[0;36mget\u001b[0;34m(key)\u001b[0m\n\u001b[1;32m     48\u001b[0m     \u001b[0;32mraise\u001b[0m \u001b[0mSecretNotFoundError\u001b[0m\u001b[0;34m(\u001b[0m\u001b[0mkey\u001b[0m\u001b[0;34m)\u001b[0m\u001b[0;34m\u001b[0m\u001b[0;34m\u001b[0m\u001b[0m\n\u001b[1;32m     49\u001b[0m   \u001b[0;32mif\u001b[0m \u001b[0;32mnot\u001b[0m \u001b[0mresp\u001b[0m\u001b[0;34m.\u001b[0m\u001b[0mget\u001b[0m\u001b[0;34m(\u001b[0m\u001b[0;34m'access'\u001b[0m\u001b[0;34m,\u001b[0m \u001b[0;32mFalse\u001b[0m\u001b[0;34m)\u001b[0m\u001b[0;34m:\u001b[0m\u001b[0;34m\u001b[0m\u001b[0;34m\u001b[0m\u001b[0m\n\u001b[0;32m---> 50\u001b[0;31m     \u001b[0;32mraise\u001b[0m \u001b[0mNotebookAccessError\u001b[0m\u001b[0;34m(\u001b[0m\u001b[0mkey\u001b[0m\u001b[0;34m)\u001b[0m\u001b[0;34m\u001b[0m\u001b[0;34m\u001b[0m\u001b[0m\n\u001b[0m\u001b[1;32m     51\u001b[0m   \u001b[0;32mreturn\u001b[0m \u001b[0mresp\u001b[0m\u001b[0;34m.\u001b[0m\u001b[0mget\u001b[0m\u001b[0;34m(\u001b[0m\u001b[0;34m'payload'\u001b[0m\u001b[0;34m,\u001b[0m \u001b[0;34m''\u001b[0m\u001b[0;34m)\u001b[0m\u001b[0;34m\u001b[0m\u001b[0;34m\u001b[0m\u001b[0m\n",
            "\u001b[0;31mNotebookAccessError\u001b[0m: Notebook does not have access to secret hf_token"
          ]
        }
      ]
    }
  ]
}